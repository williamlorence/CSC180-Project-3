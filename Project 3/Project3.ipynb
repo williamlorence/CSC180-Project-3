{
 "cells": [
  {
   "cell_type": "markdown",
   "metadata": {},
   "source": [
    "#### CSC 180 Intelligent Systems \n",
    "\n",
    "#### William Lorence, Ajaydeep Singh, Romin Akoliya, Abdurraziq Paikur\n",
    "\n",
    "#### California State University, Sacramento"
   ]
  },
  {
   "cell_type": "markdown",
   "metadata": {},
   "source": [
    "# Project 3: House Price Prediction using TensorFlow Functional API"
   ]
  }
 ],
 "metadata": {
  "language_info": {
   "name": "python"
  }
 },
 "nbformat": 4,
 "nbformat_minor": 2
}
